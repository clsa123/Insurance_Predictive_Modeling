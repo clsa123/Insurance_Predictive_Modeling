{
 "cells": [
  {
   "cell_type": "markdown",
   "metadata": {},
   "source": [
    "# Background\n",
    "\n",
    "Insurance is a financial safety net, helping you and your loved ones recover after something bad happens such as a fire, theft, lawsuit, or car accident. However, there are some challenges for insurance company. For example, the insurance application process is antiquated, and as a result, people are turned off. Therefore, insurance company like Prudential want to develop a predictive model that accurately classifies risk using a more automated approach so that it can improve the efficiency and reduce labor intensive for new and existing customers to get a quote while maintaining privacy boundaries. \n",
    "\n",
    "The goal of this project is to build a multi classification machine learning model to predict the risk level from 1 to 8 for each customer. The whole idea of this project is to get familiar with machine learning pipeline and implenment different algorithms to compare the performance. \n",
    "\n",
    "Data can be found here:https://www.kaggle.com/competitions/prudential-life-insurance-assessment/data"
   ]
  },
  {
   "cell_type": "markdown",
   "metadata": {},
   "source": [
    "# 1. Data collection"
   ]
  },
  {
   "cell_type": "code",
   "execution_count": 1,
   "metadata": {},
   "outputs": [],
   "source": [
    "import pandas as pd\n",
    "import numpy as np \n",
    "import xgboost as xgb\n",
    "from scipy.optimize import fmin_powell\n",
    "from sklearn import metrics\n",
    "from collections import Counter\n",
    "from imblearn.over_sampling import SMOTE\n",
    "from sklearn.ensemble import RandomForestClassifier\n",
    "from sklearn import linear_model\n",
    "from sklearn.linear_model import LogisticRegression\n",
    "from sklearn.model_selection import KFold\n",
    "from sklearn import metrics\n",
    "from sklearn.metrics import accuracy_score\n",
    "import warnings\n",
    "import matplotlib.pyplot as plt\n",
    "import chart_studio.plotly as py\n",
    "%matplotlib inline\n",
    "\n",
    "warnings.filterwarnings('ignore')\n",
    "train = pd.read_csv('/Users/weichenlu/Downloads/train.csv')\n",
    "test = pd.read_csv('/Users/weichenlu/Downloads/test.csv')"
   ]
  },
  {
   "cell_type": "markdown",
   "metadata": {},
   "source": [
    "# 2. Data Preprocessing"
   ]
  },
  {
   "cell_type": "markdown",
   "metadata": {},
   "source": [
    "## 2.1 Handle missing values"
   ]
  },
  {
   "cell_type": "code",
   "execution_count": 2,
   "metadata": {},
   "outputs": [
    {
     "data": {
      "text/html": [
       "<div>\n",
       "<style scoped>\n",
       "    .dataframe tbody tr th:only-of-type {\n",
       "        vertical-align: middle;\n",
       "    }\n",
       "\n",
       "    .dataframe tbody tr th {\n",
       "        vertical-align: top;\n",
       "    }\n",
       "\n",
       "    .dataframe thead th {\n",
       "        text-align: right;\n",
       "    }\n",
       "</style>\n",
       "<table border=\"1\" class=\"dataframe\">\n",
       "  <thead>\n",
       "    <tr style=\"text-align: right;\">\n",
       "      <th></th>\n",
       "      <th>Id</th>\n",
       "      <th>Product_Info_1</th>\n",
       "      <th>Product_Info_3</th>\n",
       "      <th>Product_Info_4</th>\n",
       "      <th>Product_Info_5</th>\n",
       "      <th>Product_Info_6</th>\n",
       "      <th>Product_Info_7</th>\n",
       "      <th>Ins_Age</th>\n",
       "      <th>Ht</th>\n",
       "      <th>Wt</th>\n",
       "      <th>...</th>\n",
       "      <th>Medical_Keyword_40</th>\n",
       "      <th>Medical_Keyword_41</th>\n",
       "      <th>Medical_Keyword_42</th>\n",
       "      <th>Medical_Keyword_43</th>\n",
       "      <th>Medical_Keyword_44</th>\n",
       "      <th>Medical_Keyword_45</th>\n",
       "      <th>Medical_Keyword_46</th>\n",
       "      <th>Medical_Keyword_47</th>\n",
       "      <th>Medical_Keyword_48</th>\n",
       "      <th>Response</th>\n",
       "    </tr>\n",
       "  </thead>\n",
       "  <tbody>\n",
       "    <tr>\n",
       "      <th>count</th>\n",
       "      <td>59381.000000</td>\n",
       "      <td>59381.000000</td>\n",
       "      <td>59381.000000</td>\n",
       "      <td>59381.000000</td>\n",
       "      <td>59381.000000</td>\n",
       "      <td>59381.000000</td>\n",
       "      <td>59381.000000</td>\n",
       "      <td>59381.000000</td>\n",
       "      <td>59381.000000</td>\n",
       "      <td>59381.000000</td>\n",
       "      <td>...</td>\n",
       "      <td>59381.000000</td>\n",
       "      <td>59381.000000</td>\n",
       "      <td>59381.000000</td>\n",
       "      <td>59381.000000</td>\n",
       "      <td>59381.000000</td>\n",
       "      <td>59381.000000</td>\n",
       "      <td>59381.000000</td>\n",
       "      <td>59381.000000</td>\n",
       "      <td>59381.000000</td>\n",
       "      <td>59381.000000</td>\n",
       "    </tr>\n",
       "    <tr>\n",
       "      <th>mean</th>\n",
       "      <td>39507.211515</td>\n",
       "      <td>1.026355</td>\n",
       "      <td>24.415655</td>\n",
       "      <td>0.328952</td>\n",
       "      <td>2.006955</td>\n",
       "      <td>2.673599</td>\n",
       "      <td>1.043583</td>\n",
       "      <td>0.405567</td>\n",
       "      <td>0.707283</td>\n",
       "      <td>0.292587</td>\n",
       "      <td>...</td>\n",
       "      <td>0.056954</td>\n",
       "      <td>0.010054</td>\n",
       "      <td>0.045536</td>\n",
       "      <td>0.010710</td>\n",
       "      <td>0.007528</td>\n",
       "      <td>0.013691</td>\n",
       "      <td>0.008488</td>\n",
       "      <td>0.019905</td>\n",
       "      <td>0.054496</td>\n",
       "      <td>5.636837</td>\n",
       "    </tr>\n",
       "    <tr>\n",
       "      <th>std</th>\n",
       "      <td>22815.883089</td>\n",
       "      <td>0.160191</td>\n",
       "      <td>5.072885</td>\n",
       "      <td>0.282562</td>\n",
       "      <td>0.083107</td>\n",
       "      <td>0.739103</td>\n",
       "      <td>0.291949</td>\n",
       "      <td>0.197190</td>\n",
       "      <td>0.074239</td>\n",
       "      <td>0.089037</td>\n",
       "      <td>...</td>\n",
       "      <td>0.231757</td>\n",
       "      <td>0.099764</td>\n",
       "      <td>0.208479</td>\n",
       "      <td>0.102937</td>\n",
       "      <td>0.086436</td>\n",
       "      <td>0.116207</td>\n",
       "      <td>0.091737</td>\n",
       "      <td>0.139676</td>\n",
       "      <td>0.226995</td>\n",
       "      <td>2.456833</td>\n",
       "    </tr>\n",
       "    <tr>\n",
       "      <th>min</th>\n",
       "      <td>2.000000</td>\n",
       "      <td>1.000000</td>\n",
       "      <td>1.000000</td>\n",
       "      <td>0.000000</td>\n",
       "      <td>2.000000</td>\n",
       "      <td>1.000000</td>\n",
       "      <td>1.000000</td>\n",
       "      <td>0.000000</td>\n",
       "      <td>0.000000</td>\n",
       "      <td>0.000000</td>\n",
       "      <td>...</td>\n",
       "      <td>0.000000</td>\n",
       "      <td>0.000000</td>\n",
       "      <td>0.000000</td>\n",
       "      <td>0.000000</td>\n",
       "      <td>0.000000</td>\n",
       "      <td>0.000000</td>\n",
       "      <td>0.000000</td>\n",
       "      <td>0.000000</td>\n",
       "      <td>0.000000</td>\n",
       "      <td>1.000000</td>\n",
       "    </tr>\n",
       "    <tr>\n",
       "      <th>25%</th>\n",
       "      <td>19780.000000</td>\n",
       "      <td>1.000000</td>\n",
       "      <td>26.000000</td>\n",
       "      <td>0.076923</td>\n",
       "      <td>2.000000</td>\n",
       "      <td>3.000000</td>\n",
       "      <td>1.000000</td>\n",
       "      <td>0.238806</td>\n",
       "      <td>0.654545</td>\n",
       "      <td>0.225941</td>\n",
       "      <td>...</td>\n",
       "      <td>0.000000</td>\n",
       "      <td>0.000000</td>\n",
       "      <td>0.000000</td>\n",
       "      <td>0.000000</td>\n",
       "      <td>0.000000</td>\n",
       "      <td>0.000000</td>\n",
       "      <td>0.000000</td>\n",
       "      <td>0.000000</td>\n",
       "      <td>0.000000</td>\n",
       "      <td>4.000000</td>\n",
       "    </tr>\n",
       "    <tr>\n",
       "      <th>50%</th>\n",
       "      <td>39487.000000</td>\n",
       "      <td>1.000000</td>\n",
       "      <td>26.000000</td>\n",
       "      <td>0.230769</td>\n",
       "      <td>2.000000</td>\n",
       "      <td>3.000000</td>\n",
       "      <td>1.000000</td>\n",
       "      <td>0.402985</td>\n",
       "      <td>0.709091</td>\n",
       "      <td>0.288703</td>\n",
       "      <td>...</td>\n",
       "      <td>0.000000</td>\n",
       "      <td>0.000000</td>\n",
       "      <td>0.000000</td>\n",
       "      <td>0.000000</td>\n",
       "      <td>0.000000</td>\n",
       "      <td>0.000000</td>\n",
       "      <td>0.000000</td>\n",
       "      <td>0.000000</td>\n",
       "      <td>0.000000</td>\n",
       "      <td>6.000000</td>\n",
       "    </tr>\n",
       "    <tr>\n",
       "      <th>75%</th>\n",
       "      <td>59211.000000</td>\n",
       "      <td>1.000000</td>\n",
       "      <td>26.000000</td>\n",
       "      <td>0.487179</td>\n",
       "      <td>2.000000</td>\n",
       "      <td>3.000000</td>\n",
       "      <td>1.000000</td>\n",
       "      <td>0.567164</td>\n",
       "      <td>0.763636</td>\n",
       "      <td>0.345188</td>\n",
       "      <td>...</td>\n",
       "      <td>0.000000</td>\n",
       "      <td>0.000000</td>\n",
       "      <td>0.000000</td>\n",
       "      <td>0.000000</td>\n",
       "      <td>0.000000</td>\n",
       "      <td>0.000000</td>\n",
       "      <td>0.000000</td>\n",
       "      <td>0.000000</td>\n",
       "      <td>0.000000</td>\n",
       "      <td>8.000000</td>\n",
       "    </tr>\n",
       "    <tr>\n",
       "      <th>max</th>\n",
       "      <td>79146.000000</td>\n",
       "      <td>2.000000</td>\n",
       "      <td>38.000000</td>\n",
       "      <td>1.000000</td>\n",
       "      <td>3.000000</td>\n",
       "      <td>3.000000</td>\n",
       "      <td>3.000000</td>\n",
       "      <td>1.000000</td>\n",
       "      <td>1.000000</td>\n",
       "      <td>1.000000</td>\n",
       "      <td>...</td>\n",
       "      <td>1.000000</td>\n",
       "      <td>1.000000</td>\n",
       "      <td>1.000000</td>\n",
       "      <td>1.000000</td>\n",
       "      <td>1.000000</td>\n",
       "      <td>1.000000</td>\n",
       "      <td>1.000000</td>\n",
       "      <td>1.000000</td>\n",
       "      <td>1.000000</td>\n",
       "      <td>8.000000</td>\n",
       "    </tr>\n",
       "  </tbody>\n",
       "</table>\n",
       "<p>8 rows × 127 columns</p>\n",
       "</div>"
      ],
      "text/plain": [
       "                 Id  Product_Info_1  Product_Info_3  Product_Info_4  \\\n",
       "count  59381.000000    59381.000000    59381.000000    59381.000000   \n",
       "mean   39507.211515        1.026355       24.415655        0.328952   \n",
       "std    22815.883089        0.160191        5.072885        0.282562   \n",
       "min        2.000000        1.000000        1.000000        0.000000   \n",
       "25%    19780.000000        1.000000       26.000000        0.076923   \n",
       "50%    39487.000000        1.000000       26.000000        0.230769   \n",
       "75%    59211.000000        1.000000       26.000000        0.487179   \n",
       "max    79146.000000        2.000000       38.000000        1.000000   \n",
       "\n",
       "       Product_Info_5  Product_Info_6  Product_Info_7       Ins_Age  \\\n",
       "count    59381.000000    59381.000000    59381.000000  59381.000000   \n",
       "mean         2.006955        2.673599        1.043583      0.405567   \n",
       "std          0.083107        0.739103        0.291949      0.197190   \n",
       "min          2.000000        1.000000        1.000000      0.000000   \n",
       "25%          2.000000        3.000000        1.000000      0.238806   \n",
       "50%          2.000000        3.000000        1.000000      0.402985   \n",
       "75%          2.000000        3.000000        1.000000      0.567164   \n",
       "max          3.000000        3.000000        3.000000      1.000000   \n",
       "\n",
       "                 Ht            Wt  ...  Medical_Keyword_40  \\\n",
       "count  59381.000000  59381.000000  ...        59381.000000   \n",
       "mean       0.707283      0.292587  ...            0.056954   \n",
       "std        0.074239      0.089037  ...            0.231757   \n",
       "min        0.000000      0.000000  ...            0.000000   \n",
       "25%        0.654545      0.225941  ...            0.000000   \n",
       "50%        0.709091      0.288703  ...            0.000000   \n",
       "75%        0.763636      0.345188  ...            0.000000   \n",
       "max        1.000000      1.000000  ...            1.000000   \n",
       "\n",
       "       Medical_Keyword_41  Medical_Keyword_42  Medical_Keyword_43  \\\n",
       "count        59381.000000        59381.000000        59381.000000   \n",
       "mean             0.010054            0.045536            0.010710   \n",
       "std              0.099764            0.208479            0.102937   \n",
       "min              0.000000            0.000000            0.000000   \n",
       "25%              0.000000            0.000000            0.000000   \n",
       "50%              0.000000            0.000000            0.000000   \n",
       "75%              0.000000            0.000000            0.000000   \n",
       "max              1.000000            1.000000            1.000000   \n",
       "\n",
       "       Medical_Keyword_44  Medical_Keyword_45  Medical_Keyword_46  \\\n",
       "count        59381.000000        59381.000000        59381.000000   \n",
       "mean             0.007528            0.013691            0.008488   \n",
       "std              0.086436            0.116207            0.091737   \n",
       "min              0.000000            0.000000            0.000000   \n",
       "25%              0.000000            0.000000            0.000000   \n",
       "50%              0.000000            0.000000            0.000000   \n",
       "75%              0.000000            0.000000            0.000000   \n",
       "max              1.000000            1.000000            1.000000   \n",
       "\n",
       "       Medical_Keyword_47  Medical_Keyword_48      Response  \n",
       "count        59381.000000        59381.000000  59381.000000  \n",
       "mean             0.019905            0.054496      5.636837  \n",
       "std              0.139676            0.226995      2.456833  \n",
       "min              0.000000            0.000000      1.000000  \n",
       "25%              0.000000            0.000000      4.000000  \n",
       "50%              0.000000            0.000000      6.000000  \n",
       "75%              0.000000            0.000000      8.000000  \n",
       "max              1.000000            1.000000      8.000000  \n",
       "\n",
       "[8 rows x 127 columns]"
      ]
     },
     "execution_count": 2,
     "metadata": {},
     "output_type": "execute_result"
    }
   ],
   "source": [
    "train.describe()"
   ]
  },
  {
   "cell_type": "code",
   "execution_count": 3,
   "metadata": {},
   "outputs": [
    {
     "data": {
      "text/plain": [
       "(59381, 128)"
      ]
     },
     "execution_count": 3,
     "metadata": {},
     "output_type": "execute_result"
    }
   ],
   "source": [
    "train.shape"
   ]
  },
  {
   "cell_type": "code",
   "execution_count": 4,
   "metadata": {},
   "outputs": [
    {
     "data": {
      "text/plain": [
       "(19765, 127)"
      ]
     },
     "execution_count": 4,
     "metadata": {},
     "output_type": "execute_result"
    }
   ],
   "source": [
    "test.shape"
   ]
  },
  {
   "cell_type": "code",
   "execution_count": 5,
   "metadata": {},
   "outputs": [],
   "source": [
    "def count_missing_value(data):\n",
    "    global null_dic\n",
    "    null_dic = {}\n",
    "    for i in range(data.shape[1]):\n",
    "        my_null = data.iloc[:,i].isnull().sum()\n",
    "        col_name = data.columns.values[i]\n",
    "        per = data.iloc[:,i].isnull().mean()\n",
    "        null_dic[col_name] = {'count':my_null,'percentage':per}\n",
    "def filter_col():\n",
    "    for i,j in list(null_dic.items()):\n",
    "        if j['count'] == 0:\n",
    "            del null_dic[i]\n",
    "def col_with_null(data):\n",
    "    count_missing_value(data)\n",
    "    filter_col()\n",
    "    return null_dic"
   ]
  },
  {
   "cell_type": "code",
   "execution_count": 6,
   "metadata": {},
   "outputs": [
    {
     "data": {
      "text/plain": [
       "{'Employment_Info_1': {'count': 19, 'percentage': 0.00031996766642528756},\n",
       " 'Employment_Info_4': {'count': 6779, 'percentage': 0.11416109529984339},\n",
       " 'Employment_Info_6': {'count': 10854, 'percentage': 0.18278573954631952},\n",
       " 'Insurance_History_5': {'count': 25396, 'percentage': 0.427678887186137},\n",
       " 'Family_Hist_2': {'count': 28656, 'percentage': 0.4825786025833179},\n",
       " 'Family_Hist_3': {'count': 34241, 'percentage': 0.5766322561088564},\n",
       " 'Family_Hist_4': {'count': 19184, 'percentage': 0.323066300668564},\n",
       " 'Family_Hist_5': {'count': 41811, 'percentage': 0.7041141105740893},\n",
       " 'Medical_History_1': {'count': 8889, 'percentage': 0.14969434667654638},\n",
       " 'Medical_History_10': {'count': 58824, 'percentage': 0.9906198952526902},\n",
       " 'Medical_History_15': {'count': 44596, 'percentage': 0.7510146343106381},\n",
       " 'Medical_History_24': {'count': 55580, 'percentage': 0.9359896263114464},\n",
       " 'Medical_History_32': {'count': 58274, 'percentage': 0.981357673329853}}"
      ]
     },
     "execution_count": 6,
     "metadata": {},
     "output_type": "execute_result"
    }
   ],
   "source": [
    "train_null = col_with_null(train)\n",
    "train_null"
   ]
  },
  {
   "cell_type": "code",
   "execution_count": 7,
   "metadata": {},
   "outputs": [
    {
     "data": {
      "text/plain": [
       "{'Employment_Info_1': {'count': 3, 'percentage': 0.00015178345560333924},\n",
       " 'Employment_Info_4': {'count': 2137, 'percentage': 0.10812041487477865},\n",
       " 'Employment_Info_6': {'count': 3787, 'percentage': 0.19160131545661524},\n",
       " 'Insurance_History_5': {'count': 8105, 'percentage': 0.4100683025550215},\n",
       " 'Family_Hist_2': {'count': 9880, 'percentage': 0.49987351378699724},\n",
       " 'Family_Hist_3': {'count': 11064, 'percentage': 0.5597773842651151},\n",
       " 'Family_Hist_4': {'count': 6677, 'percentage': 0.33781937768783205},\n",
       " 'Family_Hist_5': {'count': 13624, 'percentage': 0.6892992663799646},\n",
       " 'Medical_History_1': {'count': 2972, 'percentage': 0.15036681001770807},\n",
       " 'Medical_History_10': {'count': 19564, 'percentage': 0.9898305084745763},\n",
       " 'Medical_History_15': {'count': 14864, 'percentage': 0.7520364280293448},\n",
       " 'Medical_History_24': {'count': 18585, 'percentage': 0.9402985074626866},\n",
       " 'Medical_History_32': {'count': 19414, 'percentage': 0.9822413356944093}}"
      ]
     },
     "execution_count": 7,
     "metadata": {},
     "output_type": "execute_result"
    }
   ],
   "source": [
    "test_null = col_with_null(test)\n",
    "test_null"
   ]
  },
  {
   "cell_type": "code",
   "execution_count": 8,
   "metadata": {},
   "outputs": [],
   "source": [
    "def get_per(data):\n",
    "    global null_per,null_name\n",
    "    null_per = []\n",
    "    null_name = []\n",
    "    for i,j in data.items():\n",
    "        null_name.append(i)\n",
    "        null_per.append(j['percentage'])"
   ]
  },
  {
   "cell_type": "code",
   "execution_count": 9,
   "metadata": {},
   "outputs": [],
   "source": [
    "get_per(train_null)"
   ]
  },
  {
   "cell_type": "code",
   "execution_count": 10,
   "metadata": {},
   "outputs": [
    {
     "data": {
      "image/png": "[encoded data removed]",
      "text/plain": [
       "<Figure size 432x288 with 1 Axes>"
      ]
     },
     "metadata": {
      "needs_background": "light"
     },
     "output_type": "display_data"
    }
   ],
   "source": [
    "x = range(len(null_name))\n",
    "fig, ax = plt.subplots() \n",
    "ax.barh(x, null_per, align='center',color='blue')\n",
    "ax.set_yticks(x)\n",
    "ax.set_yticklabels(null_name)\n",
    "ax.invert_yaxis()\n",
    "ax.set_xlabel('Percentage')\n",
    "ax.set_title('Percentage of missing value on training data')\n",
    "for i, v in enumerate(null_per):\n",
    "    ax.text(v, i + .2, str(v), color='black', fontweight='bold')"
   ]
  },
  {
   "cell_type": "code",
   "execution_count": 11,
   "metadata": {},
   "outputs": [],
   "source": [
    "get_per(test_null)"
   ]
  },
  {
   "cell_type": "code",
   "execution_count": 12,
   "metadata": {},
   "outputs": [
    {
     "data": {
      "image/png": "[encoded data removed]",
      "text/plain": [
       "<Figure size 432x288 with 1 Axes>"
      ]
     },
     "metadata": {
      "needs_background": "light"
     },
     "output_type": "display_data"
    }
   ],
   "source": [
    "x = range(len(null_name))\n",
    "fig, ax = plt.subplots() \n",
    "ax.barh(x, null_per, align='center',color='blue')\n",
    "ax.set_yticks(x)\n",
    "ax.set_yticklabels(null_name)\n",
    "ax.invert_yaxis()\n",
    "ax.set_xlabel('Percentage')\n",
    "ax.set_title('Percentage of missing value on testing data')\n",
    "for i, v in enumerate(null_per):\n",
    "    ax.text(v, i + .2, str(v), color='black', fontweight='bold')"
   ]
  },
  {
   "cell_type": "code",
   "execution_count": 13,
   "metadata": {},
   "outputs": [],
   "source": [
    "# combine train and test\n",
    "all_data = pd.concat([train,test])"
   ]
  },
  {
   "cell_type": "code",
   "execution_count": 14,
   "metadata": {},
   "outputs": [],
   "source": [
    "all_data['Employment_Info_1_null'] = np.where(all_data['Employment_Info_1'].isnull(), 1, 0)\n",
    "all_data['Employment_Info_4_null'] = np.where(all_data['Employment_Info_4'].isnull(), 1, 0)\n",
    "all_data['Employment_Info_6_null'] = np.where(all_data['Employment_Info_6'].isnull(), 1, 0)\n",
    "all_data['Insurance_History_5_null'] = np.where(all_data['Insurance_History_5'].isnull(), 1, 0)\n",
    "all_data['Family_Hist_2_null'] = np.where(all_data['Family_Hist_2'].isnull(), 1, 0)\n",
    "all_data['Family_Hist_3_null'] = np.where(all_data['Family_Hist_3'].isnull(), 1, 0)\n",
    "all_data['Family_Hist_4_null'] = np.where(all_data['Family_Hist_4'].isnull(), 1, 0)\n",
    "all_data['Family_Hist_5_null'] = np.where(all_data['Family_Hist_5'].isnull(), 1, 0)\n",
    "all_data['Medical_History_1_null'] = np.where(all_data['Medical_History_1'].isnull(), 1, 0)\n",
    "all_data['Medical_History_10_null'] = np.where(all_data['Medical_History_10'].isnull(), 1, 0)\n",
    "all_data['Medical_History_15_null'] = np.where(all_data['Medical_History_15'].isnull(), 1, 0)\n",
    "all_data['Medical_History_24_null'] = np.where(all_data['Medical_History_24'].isnull(), 1, 0)\n",
    "all_data['Medical_History_32_null'] = np.where(all_data['Medical_History_32'].isnull(), 1, 0)"
   ]
  },
  {
   "cell_type": "code",
   "execution_count": 15,
   "metadata": {},
   "outputs": [],
   "source": [
    "all_data = all_data.drop(columns=['Medical_History_10','Medical_History_24','Medical_History_32'])"
   ]
  },
  {
   "cell_type": "code",
   "execution_count": 16,
   "metadata": {},
   "outputs": [],
   "source": [
    "all_data.fillna(0, inplace=True)"
   ]
  },
  {
   "cell_type": "markdown",
   "metadata": {},
   "source": [
    "## 2.2  Explore imbalance data"
   ]
  },
  {
   "cell_type": "code",
   "execution_count": 17,
   "metadata": {},
   "outputs": [
    {
     "data": {
      "text/plain": [
       "Response\n",
       "1     6207\n",
       "2     6552\n",
       "3     1013\n",
       "4     1428\n",
       "5     5432\n",
       "6    11233\n",
       "7     8027\n",
       "8    19489\n",
       "Name: sample_counts, dtype: int64"
      ]
     },
     "execution_count": 17,
     "metadata": {},
     "output_type": "execute_result"
    }
   ],
   "source": [
    "my_class_sample = train.groupby(['Response'])['Id'].count()\n",
    "my_class_sample.rename('sample_counts')"
   ]
  },
  {
   "cell_type": "code",
   "execution_count": 18,
   "metadata": {},
   "outputs": [
    {
     "data": {
      "image/png": "[encoded data removed]",
      "text/plain": [
       "<Figure size 432x288 with 1 Axes>"
      ]
     },
     "metadata": {
      "needs_background": "light"
     },
     "output_type": "display_data"
    }
   ],
   "source": [
    "my_x = range(len(my_class_sample))\n",
    "my_y = my_class_sample\n",
    "\n",
    "fig, ax = plt.subplots() \n",
    "ax.bar(my_x,my_y,color='blue')\n",
    "ax.set_ylabel('Size')\n",
    "ax.set_xlabel('Class')\n",
    "ax.set_title('Size of each class in response variable')\n",
    "ax.set_xticklabels(range(9))\n",
    "for i, v in enumerate(my_y):\n",
    "    ax.text(i-0.4, v+150, str(v), color='black', fontweight='bold')\n"
   ]
  },
  {
   "cell_type": "markdown",
   "metadata": {},
   "source": [
    "## 2.3  Feature Engineering And Fix Imbalance Data"
   ]
  },
  {
   "cell_type": "code",
   "execution_count": 19,
   "metadata": {},
   "outputs": [
    {
     "data": {
      "text/plain": [
       "D3    18753\n",
       "D4    14071\n",
       "A8     9140\n",
       "D1     8611\n",
       "D2     8344\n",
       "E1     3711\n",
       "A1     3219\n",
       "A2     3072\n",
       "A6     2733\n",
       "A7     1823\n",
       "A3     1564\n",
       "B2     1446\n",
       "A5     1009\n",
       "C3      437\n",
       "C1      377\n",
       "C4      291\n",
       "A4      263\n",
       "C2      197\n",
       "B1       85\n",
       "Name: Product_Info_2, dtype: int64"
      ]
     },
     "execution_count": 19,
     "metadata": {},
     "output_type": "execute_result"
    }
   ],
   "source": [
    "all_data.Product_Info_2.value_counts()"
   ]
  },
  {
   "cell_type": "code",
   "execution_count": 20,
   "metadata": {},
   "outputs": [],
   "source": [
    "# create any new variables    \n",
    "all_data['Product_Info_2_char'] = all_data.Product_Info_2.str[0]\n",
    "all_data['Product_Info_2_num'] = all_data.Product_Info_2.str[1]\n",
    "\n",
    "# factorize categorical variables\n",
    "all_data['Product_Info_2'] = pd.factorize(all_data['Product_Info_2'])[0]\n",
    "all_data['Product_Info_2_char'] = pd.factorize(all_data['Product_Info_2_char'])[0]\n",
    "all_data['Product_Info_2_num'] = pd.factorize(all_data['Product_Info_2_num'])[0]\n",
    "\n",
    "all_data['BMI_Age'] = all_data['BMI'] * all_data['Ins_Age']\n",
    "\n",
    "med_keyword_columns = all_data.columns[all_data.columns.str.startswith('Medical_Keyword_')]\n",
    "all_data['Med_Keywords_Count'] = all_data[med_keyword_columns].sum(axis=1)\n",
    "   \n",
    "# fix the dtype on the label column\n",
    "all_data['Response'] = all_data['Response'].astype(int)\n",
    "\n",
    "# split train and test\n",
    "train = all_data[all_data['Response']>0].copy()\n",
    "test = all_data[all_data['Response']<1].copy()\n"
   ]
  },
  {
   "cell_type": "code",
   "execution_count": 21,
   "metadata": {},
   "outputs": [],
   "source": [
    "X_train = train.drop(columns=['Response','Id']).values\n",
    "Y_train = train['Response'].values\n",
    "X_test = test.drop(columns=['Response','Id']).values"
   ]
  },
  {
   "cell_type": "code",
   "execution_count": 22,
   "metadata": {},
   "outputs": [
    {
     "name": "stdout",
     "output_type": "stream",
     "text": [
      "Original dataset shape Counter({8: 19489, 6: 11233, 7: 8027, 2: 6552, 1: 6207, 5: 5432, 4: 1428, 3: 1013})\n",
      "Resampled dataset shape Counter({8: 19489, 4: 19489, 1: 19489, 6: 19489, 2: 19489, 7: 19489, 3: 19489, 5: 19489})\n"
     ]
    }
   ],
   "source": [
    "print('Original dataset shape {}'.format(Counter(Y_train)))\n",
    "sm = SMOTE(random_state=0)\n",
    "X_res, Y_res = sm.fit_resample(X_train, Y_train)\n",
    "print('Resampled dataset shape {}'.format(Counter(Y_res)))"
   ]
  },
  {
   "cell_type": "code",
   "execution_count": 23,
   "metadata": {},
   "outputs": [
    {
     "data": {
      "image/png": "[encoded data removed]",
      "text/plain": [
       "<Figure size 432x288 with 1 Axes>"
      ]
     },
     "metadata": {
      "needs_background": "light"
     },
     "output_type": "display_data"
    }
   ],
   "source": [
    "my_new_sample = [19489,19489,19489,19489,19489,19489,19489,19489]\n",
    "my_x = range(len(my_new_sample))\n",
    "my_y = my_new_sample\n",
    "\n",
    "fig, ax = plt.subplots() \n",
    "ax.bar(my_x,my_y,color='blue')\n",
    "ax.set_ylabel('Size')\n",
    "ax.set_xlabel('Class')\n",
    "ax.set_title('Size of each class in response variable')\n",
    "ax.set_xticklabels(range(9))\n",
    "for i, v in enumerate(my_y):\n",
    "    ax.text(i-0.4, v+150, str(v), color='black', fontweight='bold')"
   ]
  },
  {
   "cell_type": "markdown",
   "metadata": {},
   "source": [
    "# 4. Modeling And Evaluation"
   ]
  },
  {
   "cell_type": "markdown",
   "metadata": {},
   "source": [
    "## 4.1 Build Evaluation Metrics "
   ]
  },
  {
   "cell_type": "code",
   "execution_count": 24,
   "metadata": {},
   "outputs": [],
   "source": [
    "# package for quadratic_weighted_kappa metrics seems broken, cannot import, \n",
    "# have to bring the source code of the metrics and run it here mannually.\n",
    "def confusion_matrix(rater_a, rater_b, min_rating=None, max_rating=None):\n",
    "    \"\"\"\n",
    "    Returns the confusion matrix between rater's ratings\n",
    "    \"\"\"\n",
    "    assert(len(rater_a) == len(rater_b))\n",
    "    if min_rating is None:\n",
    "        min_rating = min(rater_a + rater_b)\n",
    "    if max_rating is None:\n",
    "        max_rating = max(rater_a + rater_b)\n",
    "    num_ratings = int(max_rating - min_rating + 1)\n",
    "    conf_mat = [[0 for i in range(num_ratings)]\n",
    "                for j in range(num_ratings)]\n",
    "    for a, b in zip(rater_a, rater_b):\n",
    "        conf_mat[a - min_rating][b - min_rating] += 1\n",
    "    return conf_mat\n",
    "def histogram(ratings, min_rating=None, max_rating=None):\n",
    "    \"\"\"\n",
    "    Returns the counts of each type of rating that a rater made\n",
    "    \"\"\"\n",
    "    if min_rating is None:\n",
    "        min_rating = min(ratings)\n",
    "    if max_rating is None:\n",
    "        max_rating = max(ratings)\n",
    "    num_ratings = int(max_rating - min_rating + 1)\n",
    "    hist_ratings = [0 for x in range(num_ratings)]\n",
    "    for r in ratings:\n",
    "        hist_ratings[r - min_rating] += 1\n",
    "    return hist_ratings\n",
    "\n",
    "def quadratic_weighted_kappa(rater_a, rater_b, min_rating=None, max_rating=None):\n",
    "    \"\"\"\n",
    "    Calculates the quadratic weighted kappa\n",
    "    quadratic_weighted_kappa calculates the quadratic weighted kappa\n",
    "    value, which is a measure of inter-rater agreement between two raters\n",
    "    that provide discrete numeric ratings.  Potential values range from -1\n",
    "    (representing complete disagreement) to 1 (representing complete\n",
    "    agreement).  A kappa value of 0 is expected if all agreement is due to\n",
    "    chance.\n",
    "    quadratic_weighted_kappa(rater_a, rater_b), where rater_a and rater_b\n",
    "    each correspond to a list of integer ratings.  These lists must have the\n",
    "    same length.\n",
    "    The ratings should be integers, and it is assumed that they contain\n",
    "    the complete range of possible ratings.\n",
    "    quadratic_weighted_kappa(X, min_rating, max_rating), where min_rating\n",
    "    is the minimum possible rating, and max_rating is the maximum possible\n",
    "    rating\n",
    "    \"\"\"\n",
    "    rater_a = np.array(rater_a, dtype=int)\n",
    "    rater_b = np.array(rater_b, dtype=int)\n",
    "    assert(len(rater_a) == len(rater_b))\n",
    "    if min_rating is None:\n",
    "        min_rating = min(min(rater_a), min(rater_b))\n",
    "    if max_rating is None:\n",
    "        max_rating = max(max(rater_a), max(rater_b))\n",
    "    conf_mat = confusion_matrix(rater_a, rater_b,\n",
    "                                min_rating, max_rating)\n",
    "    num_ratings = len(conf_mat)\n",
    "    num_scored_items = float(len(rater_a))\n",
    "\n",
    "    hist_rater_a = histogram(rater_a, min_rating, max_rating)\n",
    "    hist_rater_b = histogram(rater_b, min_rating, max_rating)\n",
    "\n",
    "    numerator = 0.0\n",
    "    denominator = 0.0\n",
    "\n",
    "    for i in range(num_ratings):\n",
    "        for j in range(num_ratings):\n",
    "            expected_count = (hist_rater_a[i] * hist_rater_b[j]\n",
    "                              / num_scored_items)\n",
    "            d = pow(i - j, 2.0) / pow(num_ratings - 1, 2.0)\n",
    "            numerator += d * conf_mat[i][j] / num_scored_items\n",
    "            denominator += d * expected_count / num_scored_items\n",
    "\n",
    "    return 1.0 - numerator / denominator\n",
    "\n",
    "def fit_model_with_kcv(foldnum,X,y,model):\n",
    "    kf = KFold(n_splits=foldnum, shuffle=True, random_state= 0)\n",
    "    global score_list\n",
    "    score_list=[]\n",
    "    for train_index, test_index in kf.split(X):\n",
    "        X_train, X_test = X[train_index], X[test_index]\n",
    "        y_train, y_test = y[train_index], y[test_index]       \n",
    "        model.fit(X_train, y_train)\n",
    "        predict = model.predict(X_test)\n",
    "        score = quadratic_weighted_kappa(y_test,predict)\n",
    "        score_list.append(score)"
   ]
  },
  {
   "cell_type": "markdown",
   "metadata": {},
   "source": [
    "## 4.2 Train Model And Check Cross Validation Score"
   ]
  },
  {
   "cell_type": "code",
   "execution_count": 25,
   "metadata": {},
   "outputs": [
    {
     "name": "stdout",
     "output_type": "stream",
     "text": [
      "Logistic Regression - quadratic_weighted_kappa:0.24659166769666724\n"
     ]
    }
   ],
   "source": [
    "fit_model_with_kcv(5,X_res,Y_res,LogisticRegression(random_state = 0))\n",
    "lr_ac = np.mean(score_list)\n",
    "print('Logistic Regression - quadratic_weighted_kappa:{}'.format(np.mean(score_list)))"
   ]
  },
  {
   "cell_type": "code",
   "execution_count": 26,
   "metadata": {},
   "outputs": [
    {
     "name": "stdout",
     "output_type": "stream",
     "text": [
      "Random Forest - quadratic_weighted_kappa:0.7316167702962088\n"
     ]
    }
   ],
   "source": [
    "fit_model_with_kcv(5,X_res,Y_res,RandomForestClassifier(random_state = 0, n_estimators=200,n_jobs=-1))\n",
    "rf_ac = np.mean(score_list)\n",
    "print('Random Forest - quadratic_weighted_kappa:{}'.format(np.mean(score_list)))"
   ]
  },
  {
   "cell_type": "markdown",
   "metadata": {},
   "source": [
    "## 4.3 Train Model And Check Kaggle Score"
   ]
  },
  {
   "cell_type": "code",
   "execution_count": 27,
   "metadata": {},
   "outputs": [],
   "source": [
    "rf_smote = RandomForestClassifier(random_state = 0, n_estimators=200,n_jobs=-1)\n",
    "rf_model_smote = rf_smote.fit(X_res, Y_res)\n",
    "Y_predict_rf_smote = rf_model_smote.predict(X_test)\n",
    "preds_out_rf_smote = pd.DataFrame({\"Id\": test['Id'].values, \"Response\": Y_predict_rf_smote})\n",
    "preds_out_rf_smote = preds_out_rf_smote.set_index('Id')\n",
    "preds_out_rf_smote.to_csv('Y_predict_rf_smote.csv')"
   ]
  },
  {
   "cell_type": "code",
   "execution_count": 28,
   "metadata": {},
   "outputs": [],
   "source": [
    "lr_smote = LogisticRegression(random_state = 0)\n",
    "lr_model_smote = lr_smote.fit(X_res, Y_res)\n",
    "Y_predict_lr_smote = lr_model_smote.predict(X_test)\n",
    "preds_out_lr_smote = pd.DataFrame({\"Id\": test['Id'].values, \"Response\": Y_predict_lr_smote})\n",
    "preds_out_lr_smote = preds_out_lr_smote.set_index('Id')\n",
    "preds_out_lr_smote.to_csv('Y_predict_lr_smote.csv')"
   ]
  },
  {
   "cell_type": "markdown",
   "metadata": {},
   "source": [
    "## 4.4 Compare Cross Validation Score And Kaggle Score"
   ]
  },
  {
   "cell_type": "code",
   "execution_count": 29,
   "metadata": {},
   "outputs": [
    {
     "data": {
      "image/png": "[encoded data removed]",
      "text/plain": [
       "<Figure size 432x288 with 1 Axes>"
      ]
     },
     "metadata": {
      "needs_background": "light"
     },
     "output_type": "display_data"
    }
   ],
   "source": [
    "X_lab = ['Logistic Regression','Random Forest']\n",
    "x = np.arange(2)\n",
    "y = [lr_ac,rf_ac]\n",
    "z = [0.26759,0.55306]#kaggle score\n",
    "fig,ax = plt.subplots()\n",
    "ax.set_ylim([0,1])\n",
    "rects1 = ax.bar(x-0.12,y,color='purple',align='center',width = 0.24)\n",
    "rects2 = ax.bar(x+0.12,z,color='yellow',align='center',width = 0.24)\n",
    "ax.set_ylabel('Score')\n",
    "ax.set_xlabel('Model')\n",
    "ax.set_title('Quadratic Weighted Kappa')\n",
    "plt.xticks(np.arange(2))\n",
    "ax.legend(('Cross Validation', 'Actual Label'))\n",
    "ax.set_xticklabels(X_lab)\n",
    "\n",
    "plt.show()"
   ]
  },
  {
   "cell_type": "markdown",
   "metadata": {},
   "source": [
    "# 5. Conclusion And Improvment\n",
    "\n",
    "In a nutshell, logistic regression seems not performing well in both cross validation and actual test set. The random forest model performs significantly better, even though it seems a bit overfitting in cross validation, it still gives me the highest accuracy which is around 55.3% compared to the actual test data set on Kaggle. Since data is from real company, most of the information has been censored or replaced with dummy features due to privacy. I cannot tell many business insights other than accuracy. But I believe the overall process is a good practice and I believe company will find a good use of these models in their business. In terms of the model performance, there are still some improvements can be done in the future. For example, I can apply an offset to select predictions generated from the model. This is an effort to remove the effects of a group of nuisance variables from the target variable prior to running the model to omitted variables bias"
   ]
  },
  {
   "cell_type": "code",
   "execution_count": null,
   "metadata": {},
   "outputs": [],
   "source": []
  }
 ],
 "metadata": {
  "kernelspec": {
   "display_name": "Python 3 (ipykernel)",
   "language": "python",
   "name": "python3"
  },
  "language_info": {
   "codemirror_mode": {
    "name": "ipython",
    "version": 3
   },
   "file_extension": ".py",
   "mimetype": "text/x-python",
   "name": "python",
   "nbconvert_exporter": "python",
   "pygments_lexer": "ipython3",
   "version": "3.9.12"
  }
 },
 "nbformat": 4,
 "nbformat_minor": 2
}
